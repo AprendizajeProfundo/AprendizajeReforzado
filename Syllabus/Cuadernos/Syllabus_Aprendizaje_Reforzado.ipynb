{
 "cells": [
  {
   "cell_type": "markdown",
   "metadata": {
    "tags": []
   },
   "source": [
    "<figure>\n",
    "<img src=\"../Imagenes/logo-final-ap.png\"  width=\"80\" height=\"80\" align=\"left\"/> \n",
    "</figure>\n",
    "\n",
    "# <span style=\"color:blue\"><left>Aprendizaje Profundo</left></span>"
   ]
  },
  {
   "cell_type": "markdown",
   "metadata": {
    "tags": []
   },
   "source": [
    "# <span style=\"color:red\"><center>Tópicos Avanzados de Estadística- 2026925-01</center></span>"
   ]
  },
  {
   "cell_type": "markdown",
   "metadata": {},
   "source": [
    "<center>Syllabus Inteligencia artificial y aprendizaje reforzado</center>"
   ]
  },
  {
   "cell_type": "markdown",
   "metadata": {},
   "source": [
    "##   <span style=\"color:blue\">Profesor</span>"
   ]
  },
  {
   "cell_type": "markdown",
   "metadata": {},
   "source": [
    "1. Alvaro Mauricio Montenegro Díaz, ammontenegrod@unal.edu.co\n"
   ]
  },
  {
   "cell_type": "markdown",
   "metadata": {},
   "source": [
    "##   <span style=\"color:blue\">Diseño gráfico y Marketing digital</span>\n",
    " "
   ]
  },
  {
   "cell_type": "markdown",
   "metadata": {},
   "source": [
    "1. Maria del Pilar Montenegro Reyes, pmontenegro88@gmail.com "
   ]
  },
  {
   "cell_type": "markdown",
   "metadata": {},
   "source": [
    "## <span style=\"color:blue\">Referencias</span> "
   ]
  },
  {
   "cell_type": "markdown",
   "metadata": {},
   "source": [
    "1. [Alvaro Montenegro y Daniel Montenegro, Inteligencia Artificial y Aprendizaje Profundo, 2021](https://github.com/AprendizajeProfundo/Diplomado)\n",
    "1. [Maxim Lapan, Deep Reinforcement Learning Hands-On: Apply modern RL methods to practical problems of chatbots, robotics, discrete optimization, web automation, and more, 2nd Edition, 2020](http://library.lol/main/F4D1A90C476A576238E8FE1F47602C67)\n",
    "1. [Richard S. Sutton, Andrew G. Barto, Reinforcement learning: an introduction, 2nd edition, 2020](http://library.lol/main/6502B74CE247C4CD4D4FB54747AD7C7E)\n",
    "1. [Praveen Palanisamy - Hands-On Intelligent Agents with OpenAI Gym_ Your Guide to Developing AI Agents Using Deep Reinforcement Learning, 2020](http://library.lol/main/E4FD128CF9B93E0F7A542B053330517A)\n",
    "1. [Turing Paper 1936](http://www.thocp.net/biographies/papers/turing_oncomputablenumbers_1936.pdf)"
   ]
  },
  {
   "cell_type": "markdown",
   "metadata": {},
   "source": [
    "## <span style=\"color:blue\">Tecnologías del curso</span> "
   ]
  },
  {
   "cell_type": "markdown",
   "metadata": {},
   "source": [
    "\n",
    "1. python\n",
    "1. numpy\n",
    "1. jupyterlab\n",
    "1. gym\n",
    "1. gym-atari\n",
    "1. Opencv-python\n",
    "1. torch\n",
    "1. torchvision\n",
    "1. ignite (de pytorch)\n",
    "1. tensorboardX\n",
    "1. tensorflow\n",
    "1. ptan (bajar el código)\n",
    "\n",
    "Se aconseja seguir el siguiente plan de instalación en Linux. Puede hacerlo en Windows, pero no se garantiza que todo funcione bien.\n",
    "\n"
   ]
  },
  {
   "cell_type": "markdown",
   "metadata": {},
   "source": [
    "### Guía de instalación"
   ]
  },
  {
   "cell_type": "markdown",
   "metadata": {},
   "source": [
    "#### Anaconda"
   ]
  },
  {
   "cell_type": "markdown",
   "metadata": {},
   "source": [
    "El curso se hará en Linux. Se sugiere que tanga instalada una versión de Ubuntu 20.04 o Mint 20. Instale miniconda(recomendado) o anaconda. [Anaconda docs](https://docs.anaconda.com/anaconda/install/linux/)"
   ]
  },
  {
   "cell_type": "markdown",
   "metadata": {},
   "source": [
    "#### Cree un nuevo ambiente conda"
   ]
  },
  {
   "cell_type": "markdown",
   "metadata": {},
   "source": [
    "En su terminal ejecute cada unso de los siguientes comandos"
   ]
  },
  {
   "cell_type": "raw",
   "metadata": {},
   "source": [
    "# crea un nuevo ambiente con nombre re_learnig  y de una vez instala pytohn, numpy, tensorflow\n",
    "# y pytorch\n",
    "\n",
    "conda create --name re_learning python numpy tensorflow pytorch -c conda-forge\n",
    "\n",
    "\n"
   ]
  },
  {
   "cell_type": "markdown",
   "metadata": {},
   "source": [
    "#### Instale los demás módulos"
   ]
  },
  {
   "cell_type": "raw",
   "metadata": {},
   "source": [
    "conda activate re_learning\n",
    "\n",
    "conda install torchvision\n",
    "\n",
    "conda install ignite -c pytorch\n",
    "\n",
    "conda install gym -c conda-forge\n",
    "\n",
    "conda install gym-atari -c conda-forge\n",
    "\n",
    "conda install jupyterlab -c conda-forge\n",
    "\n"
   ]
  },
  {
   "cell_type": "markdown",
   "metadata": {},
   "source": [
    "## <span style=\"color:blue\">Contenido</span> "
   ]
  },
  {
   "cell_type": "markdown",
   "metadata": {},
   "source": [
    "1. Introducción al Aprendizaje reforzado\n",
    "    - Agente, ambiente, acción, recompensa\n",
    "    - Proceso de Markov, proceso de decisión de Markov\n",
    "1. Introducción a Python\n",
    "1. Introducción a PyTorch\n",
    "1. Aprendizaje profundo con PyTorch\n",
    "1. Introducción a OpenAI Gym\n",
    "1. Bandido multibrazo\n",
    "1. Q-learning. Ecuación de Bellman\n",
    "1. Deep Q-learning: DQN. Q-learning con redes neuronales\n",
    "1. Doble DQN\n",
    "1. Aprendizaje temporal diferencial\n",
    "1. Métodos de gradiente de la política\n",
    "1. Método  Actor-Crítico\n",
    "1. Casos de estudio\n",
    "    - Comercio de acciones (stock trading)\n",
    "    - Entrenamiento de chatbots\n",
    "    - Navegación web\n",
    "    - Entrenamiento de robots \n",
    "    - Juegos. Por ejemplo basados en el método AlphaGo Zero\n",
    "    - Optimzación discreta usando AR. Por ejemplo cubo de Rubick\n",
    "    - Tunning (optimizacipon de parámetros) de redes neuronales"
   ]
  },
  {
   "cell_type": "markdown",
   "metadata": {},
   "source": [
    "## <span style=\"color:blue\">Proyectos de curso</span>"
   ]
  },
  {
   "cell_type": "markdown",
   "metadata": {},
   "source": [
    "El curso se organiza en grupo de máximo tres personas. Cada grupo desarrolla un proyecto en algún problema como los siguientes:\n",
    "\n",
    "1. Stock trading (inversiones en la bolsa). usar por ejemplo Yahoo-finance\n",
    "1. Entrenamiento de chatbots\n",
    "1. Navegación web\n",
    "1. Entrenamiento de robots \n",
    "1. Juegos. Por ejemplo basados en el método AlphaGo Zero\n",
    "1. Optimzación discreta usando AR. Por ejemplo cubo de Rubick\n",
    "1. Tunning (optimización de parámetros) de redes neuronales\n",
    "\n",
    "Entregables:\n",
    "\n",
    "1. Un documento desarrollado en Jupyter book, en donde describe explícitamente el proyecto.\n",
    "1. Los cuadernos de Jupyter lab con los códigos desarrollados para el proyecto.\n",
    "1. Un video promocional del proyecto, el cual debe ser colgado en al App del proyecto.\n",
    "1. La aplicación (App) desarrollada para presentar los resultados previstos del proyecto."
   ]
  },
  {
   "cell_type": "markdown",
   "metadata": {},
   "source": [
    " ## <span style=\"color:blue\">Evaluación</span>"
   ]
  },
  {
   "cell_type": "markdown",
   "metadata": {},
   "source": [
    "1. Un proyecto que será desarrollado por máximo tres personas a lo largo del curso. Total 80%.\n",
    "2. Seguimiento del proyecto. Asistencias a asesorías extraclase, Total 5%.\n",
    "3. Video promocional de cinco minutos sobre el proyecto, Total 5%.\n",
    "4. Una exposición final sobre el proyecto. Total 5%.\n",
    "5. Exposición de un tema asignado. Total 5%"
   ]
  }
 ],
 "metadata": {
  "kernelspec": {
   "display_name": "Python 3",
   "language": "python",
   "name": "python3"
  },
  "language_info": {
   "codemirror_mode": {
    "name": "ipython",
    "version": 3
   },
   "file_extension": ".py",
   "mimetype": "text/x-python",
   "name": "python",
   "nbconvert_exporter": "python",
   "pygments_lexer": "ipython3",
   "version": "3.9.5"
  }
 },
 "nbformat": 4,
 "nbformat_minor": 4
}
